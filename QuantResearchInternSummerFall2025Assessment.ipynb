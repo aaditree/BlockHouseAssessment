{
  "nbformat": 4,
  "nbformat_minor": 0,
  "metadata": {
    "colab": {
      "provenance": []
    },
    "kernelspec": {
      "name": "python3",
      "display_name": "Python 3"
    },
    "language_info": {
      "name": "python"
    }
  },
  "cells": [
    {
      "cell_type": "code",
      "source": [
        "from google.colab import drive\n",
        "import os\n",
        "\n",
        "drive.mount('/content/drive')\n",
        "drive_path = '/content/drive/MyDrive/Quant Research Intern Summer   Fall 2025/Data'\n",
        "runtime_path = '/content/drive/MyDrive/QuantAssessment'\n",
        "os.makedirs(runtime_path, exist_ok=True)\n",
        "zip_files = [f for f in os.listdir(drive_path) if f.endswith('.zip')]\n",
        "for zip_file in zip_files:\n",
        "    src = os.path.join(drive_path, zip_file)\n",
        "    dst = os.path.join(runtime_path, zip_file)\n",
        "    !cp \"{src}\" \"{runtime_path}\"\n",
        "    !unzip -o \"{dst}\" -d \"{runtime_path}\"\n"
      ],
      "metadata": {
        "colab": {
          "base_uri": "https://localhost:8080/",
          "height": 0
        },
        "id": "YxQuKJdfD2fN",
        "outputId": "e50aa369-5017-4c6f-c193-635b933aba9b"
      },
      "execution_count": 2,
      "outputs": [
        {
          "output_type": "stream",
          "name": "stdout",
          "text": [
            "Drive already mounted at /content/drive; to attempt to forcibly remount, call drive.mount(\"/content/drive\", force_remount=True).\n",
            "Archive:  /content/drive/MyDrive/QuantAssessment/FROG.zip\n",
            "  inflating: /content/drive/MyDrive/QuantAssessment/FROG_2025-05-02 00:00:00+00:00.csv  \n",
            "  inflating: /content/drive/MyDrive/QuantAssessment/FROG_2025-05-01 00:00:00+00:00.csv  \n",
            "  inflating: /content/drive/MyDrive/QuantAssessment/FROG_2025-04-30 00:00:00+00:00.csv  \n",
            "  inflating: /content/drive/MyDrive/QuantAssessment/FROG_2025-04-29 00:00:00+00:00.csv  \n",
            "  inflating: /content/drive/MyDrive/QuantAssessment/FROG_2025-04-28 00:00:00+00:00.csv  \n",
            "  inflating: /content/drive/MyDrive/QuantAssessment/FROG_2025-04-25 00:00:00+00:00.csv  \n",
            "  inflating: /content/drive/MyDrive/QuantAssessment/FROG_2025-04-24 00:00:00+00:00.csv  \n",
            "  inflating: /content/drive/MyDrive/QuantAssessment/FROG_2025-04-23 00:00:00+00:00.csv  \n",
            "  inflating: /content/drive/MyDrive/QuantAssessment/FROG_2025-04-22 00:00:00+00:00.csv  \n",
            "  inflating: /content/drive/MyDrive/QuantAssessment/FROG_2025-04-21 00:00:00+00:00.csv  \n",
            "  inflating: /content/drive/MyDrive/QuantAssessment/FROG_2025-04-17 00:00:00+00:00.csv  \n",
            "  inflating: /content/drive/MyDrive/QuantAssessment/FROG_2025-04-16 00:00:00+00:00.csv  \n",
            "  inflating: /content/drive/MyDrive/QuantAssessment/FROG_2025-04-15 00:00:00+00:00.csv  \n",
            "  inflating: /content/drive/MyDrive/QuantAssessment/FROG_2025-04-14 00:00:00+00:00.csv  \n",
            "  inflating: /content/drive/MyDrive/QuantAssessment/FROG_2025-04-11 00:00:00+00:00.csv  \n",
            "  inflating: /content/drive/MyDrive/QuantAssessment/FROG_2025-04-10 00:00:00+00:00.csv  \n",
            "  inflating: /content/drive/MyDrive/QuantAssessment/FROG_2025-04-09 00:00:00+00:00.csv  \n",
            "  inflating: /content/drive/MyDrive/QuantAssessment/FROG_2025-04-08 00:00:00+00:00.csv  \n",
            "  inflating: /content/drive/MyDrive/QuantAssessment/FROG_2025-04-07 00:00:00+00:00.csv  \n",
            "  inflating: /content/drive/MyDrive/QuantAssessment/FROG_2025-04-04 00:00:00+00:00.csv  \n",
            "  inflating: /content/drive/MyDrive/QuantAssessment/FROG_2025-04-03 00:00:00+00:00.csv  \n",
            "Archive:  /content/drive/MyDrive/QuantAssessment/CRWV.zip\n",
            "  inflating: /content/drive/MyDrive/QuantAssessment/CRWV_2025-05-02 00:00:00+00:00.csv  \n",
            "  inflating: /content/drive/MyDrive/QuantAssessment/__MACOSX/._CRWV_2025-05-02 00:00:00+00:00.csv  \n",
            "  inflating: /content/drive/MyDrive/QuantAssessment/CRWV_2025-05-01 00:00:00+00:00.csv  \n",
            "  inflating: /content/drive/MyDrive/QuantAssessment/__MACOSX/._CRWV_2025-05-01 00:00:00+00:00.csv  \n",
            "  inflating: /content/drive/MyDrive/QuantAssessment/CRWV_2025-04-30 00:00:00+00:00.csv  \n",
            "  inflating: /content/drive/MyDrive/QuantAssessment/__MACOSX/._CRWV_2025-04-30 00:00:00+00:00.csv  \n",
            "  inflating: /content/drive/MyDrive/QuantAssessment/CRWV_2025-04-29 00:00:00+00:00.csv  \n",
            "  inflating: /content/drive/MyDrive/QuantAssessment/__MACOSX/._CRWV_2025-04-29 00:00:00+00:00.csv  \n",
            "  inflating: /content/drive/MyDrive/QuantAssessment/CRWV_2025-04-28 00:00:00+00:00.csv  \n",
            "  inflating: /content/drive/MyDrive/QuantAssessment/__MACOSX/._CRWV_2025-04-28 00:00:00+00:00.csv  \n",
            "  inflating: /content/drive/MyDrive/QuantAssessment/CRWV_2025-04-25 00:00:00+00:00.csv  \n",
            "  inflating: /content/drive/MyDrive/QuantAssessment/__MACOSX/._CRWV_2025-04-25 00:00:00+00:00.csv  \n",
            "  inflating: /content/drive/MyDrive/QuantAssessment/CRWV_2025-04-24 00:00:00+00:00.csv  \n",
            "  inflating: /content/drive/MyDrive/QuantAssessment/__MACOSX/._CRWV_2025-04-24 00:00:00+00:00.csv  \n",
            "  inflating: /content/drive/MyDrive/QuantAssessment/CRWV_2025-04-23 00:00:00+00:00.csv  \n",
            "  inflating: /content/drive/MyDrive/QuantAssessment/__MACOSX/._CRWV_2025-04-23 00:00:00+00:00.csv  \n",
            "  inflating: /content/drive/MyDrive/QuantAssessment/CRWV_2025-04-22 00:00:00+00:00.csv  \n",
            "  inflating: /content/drive/MyDrive/QuantAssessment/__MACOSX/._CRWV_2025-04-22 00:00:00+00:00.csv  \n",
            "  inflating: /content/drive/MyDrive/QuantAssessment/CRWV_2025-04-21 00:00:00+00:00.csv  \n",
            "  inflating: /content/drive/MyDrive/QuantAssessment/__MACOSX/._CRWV_2025-04-21 00:00:00+00:00.csv  \n",
            "  inflating: /content/drive/MyDrive/QuantAssessment/CRWV_2025-04-17 00:00:00+00:00.csv  \n",
            "  inflating: /content/drive/MyDrive/QuantAssessment/__MACOSX/._CRWV_2025-04-17 00:00:00+00:00.csv  \n",
            "  inflating: /content/drive/MyDrive/QuantAssessment/CRWV_2025-04-16 00:00:00+00:00.csv  \n",
            "  inflating: /content/drive/MyDrive/QuantAssessment/__MACOSX/._CRWV_2025-04-16 00:00:00+00:00.csv  \n",
            "  inflating: /content/drive/MyDrive/QuantAssessment/CRWV_2025-04-15 00:00:00+00:00.csv  \n",
            "  inflating: /content/drive/MyDrive/QuantAssessment/__MACOSX/._CRWV_2025-04-15 00:00:00+00:00.csv  \n",
            "  inflating: /content/drive/MyDrive/QuantAssessment/CRWV_2025-04-14 00:00:00+00:00.csv  \n",
            "  inflating: /content/drive/MyDrive/QuantAssessment/__MACOSX/._CRWV_2025-04-14 00:00:00+00:00.csv  \n",
            "  inflating: /content/drive/MyDrive/QuantAssessment/CRWV_2025-04-11 00:00:00+00:00.csv  \n",
            "  inflating: /content/drive/MyDrive/QuantAssessment/__MACOSX/._CRWV_2025-04-11 00:00:00+00:00.csv  \n",
            "  inflating: /content/drive/MyDrive/QuantAssessment/CRWV_2025-04-10 00:00:00+00:00.csv  \n",
            "  inflating: /content/drive/MyDrive/QuantAssessment/__MACOSX/._CRWV_2025-04-10 00:00:00+00:00.csv  \n",
            "  inflating: /content/drive/MyDrive/QuantAssessment/CRWV_2025-04-09 00:00:00+00:00.csv  \n",
            "  inflating: /content/drive/MyDrive/QuantAssessment/__MACOSX/._CRWV_2025-04-09 00:00:00+00:00.csv  \n",
            "  inflating: /content/drive/MyDrive/QuantAssessment/CRWV_2025-04-08 00:00:00+00:00.csv  \n",
            "  inflating: /content/drive/MyDrive/QuantAssessment/__MACOSX/._CRWV_2025-04-08 00:00:00+00:00.csv  \n",
            "  inflating: /content/drive/MyDrive/QuantAssessment/CRWV_2025-04-07 00:00:00+00:00.csv  \n",
            "  inflating: /content/drive/MyDrive/QuantAssessment/__MACOSX/._CRWV_2025-04-07 00:00:00+00:00.csv  \n",
            "  inflating: /content/drive/MyDrive/QuantAssessment/CRWV_2025-04-04 00:00:00+00:00.csv  \n",
            "  inflating: /content/drive/MyDrive/QuantAssessment/__MACOSX/._CRWV_2025-04-04 00:00:00+00:00.csv  \n",
            "  inflating: /content/drive/MyDrive/QuantAssessment/CRWV_2025-04-03 00:00:00+00:00.csv  \n",
            "  inflating: /content/drive/MyDrive/QuantAssessment/__MACOSX/._CRWV_2025-04-03 00:00:00+00:00.csv  \n",
            "Archive:  /content/drive/MyDrive/QuantAssessment/SOUN.zip\n",
            "  inflating: /content/drive/MyDrive/QuantAssessment/SOUN_2025-05-02 00:00:00+00:00.csv  \n",
            "  inflating: /content/drive/MyDrive/QuantAssessment/__MACOSX/._SOUN_2025-05-02 00:00:00+00:00.csv  \n",
            "  inflating: /content/drive/MyDrive/QuantAssessment/SOUN_2025-05-01 00:00:00+00:00.csv  \n",
            "  inflating: /content/drive/MyDrive/QuantAssessment/__MACOSX/._SOUN_2025-05-01 00:00:00+00:00.csv  \n",
            "  inflating: /content/drive/MyDrive/QuantAssessment/SOUN_2025-04-30 00:00:00+00:00.csv  \n",
            "  inflating: /content/drive/MyDrive/QuantAssessment/__MACOSX/._SOUN_2025-04-30 00:00:00+00:00.csv  \n",
            "  inflating: /content/drive/MyDrive/QuantAssessment/SOUN_2025-04-29 00:00:00+00:00.csv  \n",
            "  inflating: /content/drive/MyDrive/QuantAssessment/__MACOSX/._SOUN_2025-04-29 00:00:00+00:00.csv  \n",
            "  inflating: /content/drive/MyDrive/QuantAssessment/SOUN_2025-04-28 00:00:00+00:00.csv  \n",
            "  inflating: /content/drive/MyDrive/QuantAssessment/__MACOSX/._SOUN_2025-04-28 00:00:00+00:00.csv  \n",
            "  inflating: /content/drive/MyDrive/QuantAssessment/SOUN_2025-04-25 00:00:00+00:00.csv  \n",
            "  inflating: /content/drive/MyDrive/QuantAssessment/__MACOSX/._SOUN_2025-04-25 00:00:00+00:00.csv  \n",
            "  inflating: /content/drive/MyDrive/QuantAssessment/SOUN_2025-04-24 00:00:00+00:00.csv  \n",
            "  inflating: /content/drive/MyDrive/QuantAssessment/__MACOSX/._SOUN_2025-04-24 00:00:00+00:00.csv  \n",
            "  inflating: /content/drive/MyDrive/QuantAssessment/SOUN_2025-04-23 00:00:00+00:00.csv  \n",
            "  inflating: /content/drive/MyDrive/QuantAssessment/__MACOSX/._SOUN_2025-04-23 00:00:00+00:00.csv  \n",
            "  inflating: /content/drive/MyDrive/QuantAssessment/SOUN_2025-04-22 00:00:00+00:00.csv  \n",
            "  inflating: /content/drive/MyDrive/QuantAssessment/__MACOSX/._SOUN_2025-04-22 00:00:00+00:00.csv  \n",
            "  inflating: /content/drive/MyDrive/QuantAssessment/SOUN_2025-04-21 00:00:00+00:00.csv  \n",
            "  inflating: /content/drive/MyDrive/QuantAssessment/__MACOSX/._SOUN_2025-04-21 00:00:00+00:00.csv  \n",
            "  inflating: /content/drive/MyDrive/QuantAssessment/SOUN_2025-04-17 00:00:00+00:00.csv  \n",
            "  inflating: /content/drive/MyDrive/QuantAssessment/__MACOSX/._SOUN_2025-04-17 00:00:00+00:00.csv  \n",
            "  inflating: /content/drive/MyDrive/QuantAssessment/SOUN_2025-04-16 00:00:00+00:00.csv  \n",
            "  inflating: /content/drive/MyDrive/QuantAssessment/__MACOSX/._SOUN_2025-04-16 00:00:00+00:00.csv  \n",
            "  inflating: /content/drive/MyDrive/QuantAssessment/SOUN_2025-04-15 00:00:00+00:00.csv  \n",
            "  inflating: /content/drive/MyDrive/QuantAssessment/__MACOSX/._SOUN_2025-04-15 00:00:00+00:00.csv  \n",
            "  inflating: /content/drive/MyDrive/QuantAssessment/SOUN_2025-04-14 00:00:00+00:00.csv  \n",
            "  inflating: /content/drive/MyDrive/QuantAssessment/__MACOSX/._SOUN_2025-04-14 00:00:00+00:00.csv  \n",
            "  inflating: /content/drive/MyDrive/QuantAssessment/SOUN_2025-04-11 00:00:00+00:00.csv  \n",
            "  inflating: /content/drive/MyDrive/QuantAssessment/__MACOSX/._SOUN_2025-04-11 00:00:00+00:00.csv  \n",
            "  inflating: /content/drive/MyDrive/QuantAssessment/SOUN_2025-04-10 00:00:00+00:00.csv  \n",
            "  inflating: /content/drive/MyDrive/QuantAssessment/__MACOSX/._SOUN_2025-04-10 00:00:00+00:00.csv  \n",
            "  inflating: /content/drive/MyDrive/QuantAssessment/SOUN_2025-04-09 00:00:00+00:00.csv  \n",
            "  inflating: /content/drive/MyDrive/QuantAssessment/__MACOSX/._SOUN_2025-04-09 00:00:00+00:00.csv  \n",
            "  inflating: /content/drive/MyDrive/QuantAssessment/SOUN_2025-04-08 00:00:00+00:00.csv  \n",
            "  inflating: /content/drive/MyDrive/QuantAssessment/__MACOSX/._SOUN_2025-04-08 00:00:00+00:00.csv  \n",
            "  inflating: /content/drive/MyDrive/QuantAssessment/SOUN_2025-04-07 00:00:00+00:00.csv  \n",
            "  inflating: /content/drive/MyDrive/QuantAssessment/__MACOSX/._SOUN_2025-04-07 00:00:00+00:00.csv  \n",
            "  inflating: /content/drive/MyDrive/QuantAssessment/SOUN_2025-04-04 00:00:00+00:00.csv  \n",
            "  inflating: /content/drive/MyDrive/QuantAssessment/__MACOSX/._SOUN_2025-04-04 00:00:00+00:00.csv  \n",
            "  inflating: /content/drive/MyDrive/QuantAssessment/SOUN_2025-04-03 00:00:00+00:00.csv  \n",
            "  inflating: /content/drive/MyDrive/QuantAssessment/__MACOSX/._SOUN_2025-04-03 00:00:00+00:00.csv  \n"
          ]
        }
      ]
    },
    {
      "cell_type": "code",
      "source": [
        "cd '/content/drive/MyDrive/QuantAssessment/'\n"
      ],
      "metadata": {
        "id": "7jmeAZTmMOIz",
        "outputId": "638e0803-0f1a-45f9-ead3-1910f1099449",
        "colab": {
          "base_uri": "https://localhost:8080/",
          "height": 0
        }
      },
      "execution_count": 3,
      "outputs": [
        {
          "output_type": "stream",
          "name": "stdout",
          "text": [
            "/content/drive/MyDrive/QuantAssessment\n"
          ]
        }
      ]
    },
    {
      "cell_type": "code",
      "source": [
        "ls"
      ],
      "metadata": {
        "id": "zdHFBHaaMPXp",
        "outputId": "0344c875-c0a1-44b9-f34d-48784662a46f",
        "colab": {
          "base_uri": "https://localhost:8080/",
          "height": 0
        }
      },
      "execution_count": 4,
      "outputs": [
        {
          "output_type": "stream",
          "name": "stdout",
          "text": [
            "'CRWV_2025-04-03 00:00:00+00:00.csv'  'FROG_2025-04-22 00:00:00+00:00.csv'\n",
            "'CRWV_2025-04-04 00:00:00+00:00.csv'  'FROG_2025-04-23 00:00:00+00:00.csv'\n",
            "'CRWV_2025-04-07 00:00:00+00:00.csv'  'FROG_2025-04-24 00:00:00+00:00.csv'\n",
            "'CRWV_2025-04-08 00:00:00+00:00.csv'  'FROG_2025-04-25 00:00:00+00:00.csv'\n",
            "'CRWV_2025-04-09 00:00:00+00:00.csv'  'FROG_2025-04-28 00:00:00+00:00.csv'\n",
            "'CRWV_2025-04-10 00:00:00+00:00.csv'  'FROG_2025-04-29 00:00:00+00:00.csv'\n",
            "'CRWV_2025-04-11 00:00:00+00:00.csv'  'FROG_2025-04-30 00:00:00+00:00.csv'\n",
            "'CRWV_2025-04-14 00:00:00+00:00.csv'  'FROG_2025-05-01 00:00:00+00:00.csv'\n",
            "'CRWV_2025-04-15 00:00:00+00:00.csv'  'FROG_2025-05-02 00:00:00+00:00.csv'\n",
            "'CRWV_2025-04-16 00:00:00+00:00.csv'   FROG.zip\n",
            "'CRWV_2025-04-17 00:00:00+00:00.csv'   \u001b[0m\u001b[01;34m__MACOSX\u001b[0m/\n",
            "'CRWV_2025-04-21 00:00:00+00:00.csv'  'SOUN_2025-04-03 00:00:00+00:00.csv'\n",
            "'CRWV_2025-04-22 00:00:00+00:00.csv'  'SOUN_2025-04-04 00:00:00+00:00.csv'\n",
            "'CRWV_2025-04-23 00:00:00+00:00.csv'  'SOUN_2025-04-07 00:00:00+00:00.csv'\n",
            "'CRWV_2025-04-24 00:00:00+00:00.csv'  'SOUN_2025-04-08 00:00:00+00:00.csv'\n",
            "'CRWV_2025-04-25 00:00:00+00:00.csv'  'SOUN_2025-04-09 00:00:00+00:00.csv'\n",
            "'CRWV_2025-04-28 00:00:00+00:00.csv'  'SOUN_2025-04-10 00:00:00+00:00.csv'\n",
            "'CRWV_2025-04-29 00:00:00+00:00.csv'  'SOUN_2025-04-11 00:00:00+00:00.csv'\n",
            "'CRWV_2025-04-30 00:00:00+00:00.csv'  'SOUN_2025-04-14 00:00:00+00:00.csv'\n",
            "'CRWV_2025-05-01 00:00:00+00:00.csv'  'SOUN_2025-04-15 00:00:00+00:00.csv'\n",
            "'CRWV_2025-05-02 00:00:00+00:00.csv'  'SOUN_2025-04-16 00:00:00+00:00.csv'\n",
            " CRWV.zip                             'SOUN_2025-04-17 00:00:00+00:00.csv'\n",
            "'FROG_2025-04-03 00:00:00+00:00.csv'  'SOUN_2025-04-21 00:00:00+00:00.csv'\n",
            "'FROG_2025-04-04 00:00:00+00:00.csv'  'SOUN_2025-04-22 00:00:00+00:00.csv'\n",
            "'FROG_2025-04-07 00:00:00+00:00.csv'  'SOUN_2025-04-23 00:00:00+00:00.csv'\n",
            "'FROG_2025-04-08 00:00:00+00:00.csv'  'SOUN_2025-04-24 00:00:00+00:00.csv'\n",
            "'FROG_2025-04-09 00:00:00+00:00.csv'  'SOUN_2025-04-25 00:00:00+00:00.csv'\n",
            "'FROG_2025-04-10 00:00:00+00:00.csv'  'SOUN_2025-04-28 00:00:00+00:00.csv'\n",
            "'FROG_2025-04-11 00:00:00+00:00.csv'  'SOUN_2025-04-29 00:00:00+00:00.csv'\n",
            "'FROG_2025-04-14 00:00:00+00:00.csv'  'SOUN_2025-04-30 00:00:00+00:00.csv'\n",
            "'FROG_2025-04-15 00:00:00+00:00.csv'  'SOUN_2025-05-01 00:00:00+00:00.csv'\n",
            "'FROG_2025-04-16 00:00:00+00:00.csv'  'SOUN_2025-05-02 00:00:00+00:00.csv'\n",
            "'FROG_2025-04-17 00:00:00+00:00.csv'   SOUN.zip\n",
            "'FROG_2025-04-21 00:00:00+00:00.csv'\n"
          ]
        }
      ]
    },
    {
      "cell_type": "code",
      "source": [
        "import pandas as pd\n",
        "import os\n",
        "import glob\n",
        "\n",
        "\n",
        "\n",
        "frog_files = glob.glob('FROG_*.csv')\n",
        "print(f\"Found {len(frog_files)} FROG files.\")\n",
        "\n",
        "df_frog = pd.read_csv(frog_files[0])\n",
        "print(df_frog.head())"
      ],
      "metadata": {
        "id": "AsK9XJsdGHkY",
        "outputId": "21401c0c-a407-4b35-f045-c32fd21d0399",
        "colab": {
          "base_uri": "https://localhost:8080/",
          "height": 0
        }
      },
      "execution_count": 5,
      "outputs": [
        {
          "output_type": "stream",
          "name": "stdout",
          "text": [
            "Found 21 FROG files.\n",
            "                              ts_event                           ts_event.1  \\\n",
            "0  2025-04-03 13:30:00.125395235+00:00  2025-04-03 13:30:00.125395235+00:00   \n",
            "1  2025-04-03 13:30:00.125739764+00:00  2025-04-03 13:30:00.125739764+00:00   \n",
            "2  2025-04-03 13:30:00.125745044+00:00  2025-04-03 13:30:00.125745044+00:00   \n",
            "3  2025-04-03 13:30:00.170027597+00:00  2025-04-03 13:30:00.170027597+00:00   \n",
            "4  2025-04-03 13:30:00.404726961+00:00  2025-04-03 13:30:00.404726961+00:00   \n",
            "\n",
            "   rtype  publisher_id  instrument_id action side  depth  price  size  ...  \\\n",
            "0     10             2           6292      C    B      4  29.70   100  ...   \n",
            "1     10             2           6292      A    A      3  32.79   100  ...   \n",
            "2     10             2           6292      A    B      4  29.74   100  ...   \n",
            "3     10             2           6292      A    B      3  29.89   100  ...   \n",
            "4     10             2           6292      A    B      7  29.13   100  ...   \n",
            "\n",
            "   ask_sz_08  bid_ct_08  ask_ct_08  bid_px_09  ask_px_09  bid_sz_09  \\\n",
            "0          4          1          1      28.49      33.92        100   \n",
            "1        800          1          1      28.49      33.85        100   \n",
            "2        800          1          1      28.96      33.85        800   \n",
            "3        800          1          1      28.97      33.85        100   \n",
            "4        800          1          1      29.00      33.85         20   \n",
            "\n",
            "   ask_sz_09  bid_ct_09  ask_ct_09  symbol  \n",
            "0        100          1          1    FROG  \n",
            "1          4          1          1    FROG  \n",
            "2          4          1          1    FROG  \n",
            "3          4          1          1    FROG  \n",
            "4          4          1          1    FROG  \n",
            "\n",
            "[5 rows x 74 columns]\n"
          ]
        }
      ]
    },
    {
      "cell_type": "code",
      "source": [
        "crwv_files = glob.glob('CRWV*.csv')\n",
        "print(f\"Found {len(crwv_files)} CRWV files.\")\n",
        "\n",
        "df_crwv = pd.read_csv(crwv_files[0])\n",
        "print(df_crwv.head())"
      ],
      "metadata": {
        "id": "Arvn-rfWGReU",
        "outputId": "ad056cdb-ca5a-4b6f-bd2e-fb661129d814",
        "colab": {
          "base_uri": "https://localhost:8080/",
          "height": 0
        }
      },
      "execution_count": 6,
      "outputs": [
        {
          "output_type": "stream",
          "name": "stdout",
          "text": [
            "Found 21 CRWV files.\n",
            "                              ts_event                           ts_event.1  \\\n",
            "0  2025-04-03 13:30:00.012155347+00:00  2025-04-03 13:30:00.012155347+00:00   \n",
            "1  2025-04-03 13:30:00.012155347+00:00  2025-04-03 13:30:00.012155347+00:00   \n",
            "2  2025-04-03 13:30:00.012155347+00:00  2025-04-03 13:30:00.012155347+00:00   \n",
            "3  2025-04-03 13:30:00.012344442+00:00  2025-04-03 13:30:00.012344442+00:00   \n",
            "4  2025-04-03 13:30:00.012800457+00:00  2025-04-03 13:30:00.012800457+00:00   \n",
            "\n",
            "   rtype  publisher_id  instrument_id action side  depth  price  size  ...  \\\n",
            "0     10             2          20613      T    B      0  55.40    99  ...   \n",
            "1     10             2          20613      T    B      0  55.40   100  ...   \n",
            "2     10             2          20613      T    N      0  55.40   551  ...   \n",
            "3     10             2          20613      A    A      0  55.40   100  ...   \n",
            "4     10             2          20613      A    B      0  55.39   100  ...   \n",
            "\n",
            "   ask_sz_08  bid_ct_08  ask_ct_08  bid_px_09  ask_px_09  bid_sz_09  \\\n",
            "0          4          1          1      54.55      56.70        100   \n",
            "1          4          1          1      54.55      56.70        100   \n",
            "2         10          1          1      54.55      56.91        100   \n",
            "3          4          1          1      54.55      56.70        100   \n",
            "4          4          1          1      54.57      56.70        400   \n",
            "\n",
            "   ask_sz_09  bid_ct_09  ask_ct_09  symbol  \n",
            "0         10          1          1    CRWV  \n",
            "1         10          1          1    CRWV  \n",
            "2        100          1          1    CRWV  \n",
            "3         10          1          1    CRWV  \n",
            "4         10          1          1    CRWV  \n",
            "\n",
            "[5 rows x 74 columns]\n"
          ]
        }
      ]
    },
    {
      "cell_type": "code",
      "source": [
        "soun_files = glob.glob('SOUN*.csv')\n",
        "print(f\"Found {len(soun_files)} SOUN files.\")\n",
        "\n",
        "df_soun = pd.read_csv(soun_files[0])\n",
        "print(df_soun.head())"
      ],
      "metadata": {
        "id": "hxjSrvtkGOld",
        "outputId": "94d72359-903a-43ff-bb0f-040c93c7f9c3",
        "colab": {
          "base_uri": "https://localhost:8080/",
          "height": 0
        }
      },
      "execution_count": 7,
      "outputs": [
        {
          "output_type": "stream",
          "name": "stdout",
          "text": [
            "Found 21 SOUN files.\n",
            "                              ts_event                           ts_event.1  \\\n",
            "0  2025-04-03 13:30:00.005642878+00:00  2025-04-03 13:30:00.005642878+00:00   \n",
            "1  2025-04-03 13:30:00.005948702+00:00  2025-04-03 13:30:00.005948702+00:00   \n",
            "2  2025-04-03 13:30:00.013021640+00:00  2025-04-03 13:30:00.013021640+00:00   \n",
            "3  2025-04-03 13:30:00.015953598+00:00  2025-04-03 13:30:00.015953598+00:00   \n",
            "4  2025-04-03 13:30:00.016252285+00:00  2025-04-03 13:30:00.016252285+00:00   \n",
            "\n",
            "   rtype  publisher_id  instrument_id action side  depth  price  size  ...  \\\n",
            "0     10             2          14993      A    B      1   7.88   100  ...   \n",
            "1     10             2          14993      A    A      1   7.92   100  ...   \n",
            "2     10             2          14993      C    A      0   7.91    84  ...   \n",
            "3     10             2          14993      A    A      1   7.92   100  ...   \n",
            "4     10             2          14993      T    A      0   7.89    20  ...   \n",
            "\n",
            "   ask_sz_08  bid_ct_08  ask_ct_08  bid_px_09  ask_px_09  bid_sz_09  \\\n",
            "0         84         28          3       7.79       8.07         15   \n",
            "1         84         28          3       7.79       8.07         15   \n",
            "2         84         28          3       7.79       8.07         15   \n",
            "3         84         28          3       7.79       8.07         15   \n",
            "4         84         28          3       7.79       8.07         15   \n",
            "\n",
            "   ask_sz_09  bid_ct_09  ask_ct_09  symbol  \n",
            "0         29          5          1    SOUN  \n",
            "1         29          5          1    SOUN  \n",
            "2         29          5          1    SOUN  \n",
            "3         29          5          1    SOUN  \n",
            "4         29          5          1    SOUN  \n",
            "\n",
            "[5 rows x 74 columns]\n"
          ]
        }
      ]
    },
    {
      "cell_type": "code",
      "source": [
        "import re\n",
        "\n",
        "def find_max_level(df, side_prefix='ask'):\n",
        "    pattern = re.compile(rf'{side_prefix}_px_(\\d{{2}})')\n",
        "    levels = []\n",
        "    for col in df.columns:\n",
        "        match = pattern.match(col)\n",
        "        if match:\n",
        "            levels.append(int(match.group(1)))\n",
        "    return max(levels) if levels else None\n",
        "print(\"FROG\")\n",
        "max_ask_level = find_max_level(df_frog, 'ask')\n",
        "max_bid_level = find_max_level(df_frog, 'bid')\n",
        "\n",
        "print(f\"Max ask level: {max_ask_level}\")\n",
        "print(f\"Max bid level: {max_bid_level}\")\n",
        "\n",
        "print(\"CRWV\")\n",
        "max_ask_level = find_max_level(df_crwv, 'ask')\n",
        "max_bid_level = find_max_level(df_crwv, 'bid')\n",
        "\n",
        "print(f\"Max ask level: {max_ask_level}\")\n",
        "print(f\"Max bid level: {max_bid_level}\")\n",
        "\n",
        "print(\"SOUN\")\n",
        "max_ask_level = find_max_level(df_soun, 'ask')\n",
        "max_bid_level = find_max_level(df_soun, 'bid')\n",
        "\n",
        "print(f\"Max ask level: {max_ask_level}\")\n",
        "print(f\"Max bid level: {max_bid_level}\")\n"
      ],
      "metadata": {
        "id": "Hwc_kMyCG9at",
        "outputId": "a55902f4-fe2d-4963-d577-73be7b53b4e5",
        "colab": {
          "base_uri": "https://localhost:8080/",
          "height": 0
        }
      },
      "execution_count": 8,
      "outputs": [
        {
          "output_type": "stream",
          "name": "stdout",
          "text": [
            "FROG\n",
            "Max ask level: 9\n",
            "Max bid level: 9\n",
            "CRWV\n",
            "Max ask level: 9\n",
            "Max bid level: 9\n",
            "SOUN\n",
            "Max ask level: 9\n",
            "Max bid level: 9\n"
          ]
        }
      ]
    },
    {
      "cell_type": "code",
      "source": [
        "import numpy as np\n",
        "\n",
        "def extract_order_book_levels(row, side_prefix='ask'):\n",
        "    prices = []\n",
        "    sizes = []\n",
        "\n",
        "    for level in range(1, max_ask_level+1):\n",
        "        px_col = f'{side_prefix}_px_{level:02d}'\n",
        "        sz_col = f'{side_prefix}_sz_{level:02d}'\n",
        "        price = row.get(px_col)\n",
        "        size = row.get(sz_col)\n",
        "        if price is not None and size is not None and not np.isnan(price) and size > 0:\n",
        "            prices.append(price)\n",
        "            sizes.append(size)\n",
        "    return np.array(prices), np.array(sizes)\n",
        "\n",
        "def calculate_mid_price(row):\n",
        "    bid_prices, bid_sizes = extract_order_book_levels(row, 'bid')\n",
        "    ask_prices, ask_sizes = extract_order_book_levels(row, 'ask')\n",
        "\n",
        "    if len(bid_prices) == 0 or len(ask_prices) == 0:\n",
        "        return np.nan\n",
        "\n",
        "    best_bid = np.max(bid_prices)\n",
        "    best_ask = np.min(ask_prices)\n",
        "    mid_price = (best_bid + best_ask) / 2\n",
        "    return mid_price\n",
        "\n",
        "def temporary_impact(ask_prices, ask_sizes, mid_price, x):\n",
        "    shares_to_buy = x\n",
        "    cost = 0.0\n",
        "    for price, size in sorted(zip(ask_prices, ask_sizes)):\n",
        "        take = min(shares_to_buy, size)\n",
        "        cost += take * price\n",
        "        shares_to_buy -= take\n",
        "        if shares_to_buy <= 0:\n",
        "            break\n",
        "    if shares_to_buy > 0:\n",
        "        raise ValueError(\"Not enough ask side liquidity for this order size\")\n",
        "\n",
        "    avg_price = cost / x\n",
        "    slippage = avg_price - mid_price\n",
        "    return avg_price, slippage\n",
        "\n",
        "\n"
      ],
      "metadata": {
        "id": "rCPQPZknGjTl"
      },
      "execution_count": 9,
      "outputs": []
    },
    {
      "cell_type": "code",
      "source": [
        "print(\"FROG Data\")\n",
        "row_frog = df_frog.iloc[0]\n",
        "ask_prices, ask_sizes = extract_order_book_levels(row_frog, 'ask')\n",
        "mid_price = calculate_mid_price(row_frog)\n",
        "order_size = 100\n",
        "\n",
        "avg_price, slippage = temporary_impact(ask_prices, ask_sizes, mid_price, order_size)\n",
        "print(f\"Avg execution price: {avg_price}, Slippage: {slippage}\")\n",
        "\n",
        "print(\"CRWV Data\")\n",
        "row_crwv = df_crwv.iloc[0]\n",
        "ask_prices, ask_sizes = extract_order_book_levels(row_crwv, 'ask')\n",
        "mid_price = calculate_mid_price(row_crwv)\n",
        "order_size = 100\n",
        "\n",
        "avg_price, slippage = temporary_impact(ask_prices, ask_sizes, mid_price, order_size)\n",
        "print(f\"Avg execution price: {avg_price}, Slippage: {slippage}\")\n",
        "\n",
        "print(\"SOUN Data\")\n",
        "row_soun = df_soun.iloc[0]\n",
        "ask_prices, ask_sizes = extract_order_book_levels(row_soun, 'ask')\n",
        "mid_price = calculate_mid_price(row_soun)\n",
        "order_size = 100\n",
        "\n",
        "avg_price, slippage = temporary_impact(ask_prices, ask_sizes, mid_price, order_size)\n",
        "print(f\"Avg execution price: {avg_price}, Slippage: {slippage}\")"
      ],
      "metadata": {
        "id": "d4dRt_X3HcEV",
        "outputId": "2b0c1dc3-dbcb-44db-a759-b35a89c8190e",
        "colab": {
          "base_uri": "https://localhost:8080/",
          "height": 0
        }
      },
      "execution_count": 10,
      "outputs": [
        {
          "output_type": "stream",
          "name": "stdout",
          "text": [
            "FROG Data\n",
            "Avg execution price: 32.64, Slippage: 1.3200000000000003\n",
            "CRWV Data\n",
            "Avg execution price: 55.46900000000001, Slippage: 0.20900000000000318\n",
            "SOUN Data\n",
            "Avg execution price: 7.9458, Slippage: 0.04579999999999984\n"
          ]
        }
      ]
    },
    {
      "cell_type": "code",
      "source": [
        "import matplotlib.pyplot as plt\n",
        "\n",
        "order_sizes = [0, 50, 100, 150, 200, 250, 300, 350]\n",
        "\n",
        "def calculate_impact_across_times(df, order_sizes):\n",
        "    results = []\n",
        "    for i, row in df.iterrows():\n",
        "        try:\n",
        "            ask_prices, ask_sizes = extract_order_book_levels(row, 'ask')\n",
        "            mid_price = calculate_mid_price(row)\n",
        "            if np.isnan(mid_price):\n",
        "                continue\n",
        "            for x in order_sizes:\n",
        "                avg_price, slippage = temporary_impact(ask_prices, ask_sizes, mid_price, x)\n",
        "                results.append({'timestamp': row['ts_event'], 'order_size': x,\n",
        "                                'avg_price': avg_price, 'slippage': slippage})\n",
        "        except Exception as e:\n",
        "            continue\n",
        "    return pd.DataFrame(results)\n",
        "\n",
        "frog_impact_df = calculate_impact_across_times(df_frog, order_sizes)\n",
        "crwv_impact_df = calculate_impact_across_times(df_crwv, order_sizes)\n",
        "soun_impact_df = calculate_impact_across_times(df_soun, order_sizes)\n",
        "\n",
        "for ticker, impact_df in [('FROG', frog_impact_df), ('CRWV', crwv_impact_df), ('SOUN', soun_impact_df)]:\n",
        "    avg_slippage = impact_df.groupby('order_size')['slippage'].mean()\n",
        "    plt.plot(avg_slippage.index, avg_slippage.values, label=ticker)\n",
        "\n",
        "plt.xlabel('Order Size')\n",
        "plt.ylabel('Average Temporary Impact (Slippage)')\n",
        "plt.legend()\n",
        "plt.title('Average Temporary Impact vs Order Size')\n",
        "plt.show()\n"
      ],
      "metadata": {
        "id": "CWYPpw2xHla5",
        "outputId": "f6009525-7995-4ed1-e2bf-57787e475634",
        "colab": {
          "base_uri": "https://localhost:8080/",
          "height": 508
        }
      },
      "execution_count": 11,
      "outputs": [
        {
          "output_type": "stream",
          "name": "stderr",
          "text": [
            "/tmp/ipython-input-9-2813505856.py:41: RuntimeWarning: invalid value encountered in scalar divide\n",
            "  avg_price = cost / x\n"
          ]
        },
        {
          "output_type": "display_data",
          "data": {
            "text/plain": [
              "<Figure size 640x480 with 1 Axes>"
            ],
            "image/png": "[encoded data removed]"
          },
          "metadata": {}
        }
      ]
    },
    {
      "cell_type": "code",
      "source": [
        "from scipy.optimize import curve_fit\n",
        "\n",
        "def power_law(x, alpha, delta):\n",
        "    return alpha * (x ** delta)\n",
        "\n",
        "for ticker, impact_df in [('FROG', frog_impact_df), ('CRWV', crwv_impact_df), ('SOUN', soun_impact_df)]:\n",
        "    grouped = impact_df.groupby('order_size')['slippage'].mean()\n",
        "    x = grouped.index.values\n",
        "    y = grouped.values\n",
        "\n",
        "    params, _ = curve_fit(power_law, x[1:], y[1:])  # skip zero\n",
        "    alpha, delta = params\n",
        "    print(f\"{ticker}: alpha={alpha:.4f}, delta={delta:.4f}\")\n",
        "\n",
        "    plt.plot(x, y, 'o', label=f'{ticker} data')\n",
        "    plt.plot(x, power_law(x, *params), '--', label=f'{ticker} fit (δ={delta:.2f})')\n",
        "\n",
        "plt.xlabel(\"Order Size\")\n",
        "plt.ylabel(\"Slippage\")\n",
        "plt.legend()\n",
        "plt.title(\"Power Law Fit for Temporary Impact\")\n",
        "plt.show()\n"
      ],
      "metadata": {
        "id": "3dgw6sXWL-v-",
        "outputId": "4b17bb79-d7a4-4bde-f312-65fe11368232",
        "colab": {
          "base_uri": "https://localhost:8080/",
          "height": 526
        }
      },
      "execution_count": 12,
      "outputs": [
        {
          "output_type": "stream",
          "name": "stdout",
          "text": [
            "FROG: alpha=0.0334, delta=0.1265\n",
            "CRWV: alpha=0.0438, delta=0.2096\n",
            "SOUN: alpha=0.0156, delta=0.0005\n"
          ]
        },
        {
          "output_type": "display_data",
          "data": {
            "text/plain": [
              "<Figure size 640x480 with 1 Axes>"
            ],
            "image/png": "[encoded data removed]"
          },
          "metadata": {}
        }
      ]
    },
    {
      "cell_type": "code",
      "source": [],
      "metadata": {
        "id": "clHj-x5JV1ar"
      },
      "execution_count": null,
      "outputs": []
    }
  ]
}